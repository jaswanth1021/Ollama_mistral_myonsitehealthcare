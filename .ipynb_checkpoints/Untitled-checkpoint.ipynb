{
 "cells": [
  {
   "cell_type": "code",
   "execution_count": 6,
   "id": "d3081eac-e593-4905-b687-0ea981729726",
   "metadata": {},
   "outputs": [
    {
     "name": "stdout",
     "output_type": "stream",
     "text": [
      "Requirement already satisfied: Ollama in c:\\users\\ramuj\\appdata\\local\\programs\\python\\python311\\lib\\site-packages (0.3.1)\n",
      "Requirement already satisfied: httpx<0.28.0,>=0.27.0 in c:\\users\\ramuj\\appdata\\local\\programs\\python\\python311\\lib\\site-packages (from Ollama) (0.27.0)\n",
      "Requirement already satisfied: anyio in c:\\users\\ramuj\\appdata\\local\\programs\\python\\python311\\lib\\site-packages (from httpx<0.28.0,>=0.27.0->Ollama) (4.4.0)\n",
      "Requirement already satisfied: certifi in c:\\users\\ramuj\\appdata\\local\\programs\\python\\python311\\lib\\site-packages (from httpx<0.28.0,>=0.27.0->Ollama) (2024.6.2)\n",
      "Requirement already satisfied: httpcore==1.* in c:\\users\\ramuj\\appdata\\local\\programs\\python\\python311\\lib\\site-packages (from httpx<0.28.0,>=0.27.0->Ollama) (1.0.5)\n",
      "Requirement already satisfied: idna in c:\\users\\ramuj\\appdata\\local\\programs\\python\\python311\\lib\\site-packages (from httpx<0.28.0,>=0.27.0->Ollama) (3.7)\n",
      "Requirement already satisfied: sniffio in c:\\users\\ramuj\\appdata\\local\\programs\\python\\python311\\lib\\site-packages (from httpx<0.28.0,>=0.27.0->Ollama) (1.3.1)\n",
      "Requirement already satisfied: h11<0.15,>=0.13 in c:\\users\\ramuj\\appdata\\local\\programs\\python\\python311\\lib\\site-packages (from httpcore==1.*->httpx<0.28.0,>=0.27.0->Ollama) (0.14.0)\n",
      "Note: you may need to restart the kernel to use updated packages.\n"
     ]
    },
    {
     "name": "stderr",
     "output_type": "stream",
     "text": [
      "\n",
      "[notice] A new release of pip is available: 24.1.2 -> 24.2\n",
      "[notice] To update, run: C:\\Users\\Ramuj\\AppData\\Local\\Programs\\Python\\Python311\\python.exe -m pip install --upgrade pip\n"
     ]
    }
   ],
   "source": [
    "%pip install Ollama "
   ]
  },
  {
   "cell_type": "code",
   "execution_count": 36,
   "id": "c867a590-0b66-4e72-a4f3-b3ffc7f31565",
   "metadata": {},
   "outputs": [
    {
     "name": "stdout",
     "output_type": "stream",
     "text": [
      "Requirement already satisfied: flask in c:\\users\\ramuj\\appdata\\local\\programs\\python\\python311\\lib\\site-packages (3.0.3)\n",
      "Requirement already satisfied: Werkzeug>=3.0.0 in c:\\users\\ramuj\\appdata\\local\\programs\\python\\python311\\lib\\site-packages (from flask) (3.0.3)\n",
      "Requirement already satisfied: Jinja2>=3.1.2 in c:\\users\\ramuj\\appdata\\local\\programs\\python\\python311\\lib\\site-packages (from flask) (3.1.4)\n",
      "Requirement already satisfied: itsdangerous>=2.1.2 in c:\\users\\ramuj\\appdata\\local\\programs\\python\\python311\\lib\\site-packages (from flask) (2.2.0)\n",
      "Requirement already satisfied: click>=8.1.3 in c:\\users\\ramuj\\appdata\\local\\programs\\python\\python311\\lib\\site-packages (from flask) (8.1.7)\n",
      "Requirement already satisfied: blinker>=1.6.2 in c:\\users\\ramuj\\appdata\\local\\programs\\python\\python311\\lib\\site-packages (from flask) (1.8.2)\n",
      "Requirement already satisfied: colorama in c:\\users\\ramuj\\appdata\\local\\programs\\python\\python311\\lib\\site-packages (from click>=8.1.3->flask) (0.4.6)\n",
      "Requirement already satisfied: MarkupSafe>=2.0 in c:\\users\\ramuj\\appdata\\local\\programs\\python\\python311\\lib\\site-packages (from Jinja2>=3.1.2->flask) (2.1.5)\n",
      "Note: you may need to restart the kernel to use updated packages.\n"
     ]
    },
    {
     "name": "stderr",
     "output_type": "stream",
     "text": [
      "\n",
      "[notice] A new release of pip is available: 24.1.2 -> 24.2\n",
      "[notice] To update, run: C:\\Users\\Ramuj\\AppData\\Local\\Programs\\Python\\Python311\\python.exe -m pip install --upgrade pip\n"
     ]
    }
   ],
   "source": [
    "%pip install flask"
   ]
  },
  {
   "cell_type": "code",
   "execution_count": 21,
   "id": "3a4ce1fb-a639-407a-82f7-f7a6834174cc",
   "metadata": {},
   "outputs": [],
   "source": [
    "import ollama\n"
   ]
  },
  {
   "cell_type": "code",
   "execution_count": 26,
   "id": "bc07dbfc-48ba-4ddf-ad27-5196f9a733cb",
   "metadata": {},
   "outputs": [
    {
     "data": {
      "text/plain": [
       "{'status': 'success'}"
      ]
     },
     "execution_count": 26,
     "metadata": {},
     "output_type": "execute_result"
    }
   ],
   "source": [
    "ollama.pull('mistral')"
   ]
  },
  {
   "cell_type": "code",
   "execution_count": 27,
   "id": "c8e1ad86-c440-4101-aefb-cb8a71ebf7e8",
   "metadata": {},
   "outputs": [
    {
     "data": {
      "text/plain": [
       "{'models': [{'name': 'mistral:latest',\n",
       "   'model': 'mistral:latest',\n",
       "   'modified_at': '2024-08-09T13:53:38.7535933+05:30',\n",
       "   'size': 4113301824,\n",
       "   'digest': 'f974a74358d62a017b37c6f424fcdf2744ca02926c4f952513ddf474b2fa5091',\n",
       "   'details': {'parent_model': '',\n",
       "    'format': 'gguf',\n",
       "    'family': 'llama',\n",
       "    'families': ['llama'],\n",
       "    'parameter_size': '7.2B',\n",
       "    'quantization_level': 'Q4_0'}},\n",
       "  {'name': 'llama3.1:latest',\n",
       "   'model': 'llama3.1:latest',\n",
       "   'modified_at': '2024-08-09T13:53:35.3791044+05:30',\n",
       "   'size': 4661230977,\n",
       "   'digest': '91ab477bec9d27086a119e33c471ae7afbd786cc4fbd8f38d8af0a0b949d53aa',\n",
       "   'details': {'parent_model': '',\n",
       "    'format': 'gguf',\n",
       "    'family': 'llama',\n",
       "    'families': ['llama'],\n",
       "    'parameter_size': '8.0B',\n",
       "    'quantization_level': 'Q4_0'}}]}"
      ]
     },
     "execution_count": 27,
     "metadata": {},
     "output_type": "execute_result"
    }
   ],
   "source": [
    "ollama.list()"
   ]
  },
  {
   "cell_type": "code",
   "execution_count": 29,
   "id": "a557779b-678d-44a3-b0c4-930c53a1d49f",
   "metadata": {},
   "outputs": [
    {
     "data": {
      "text/plain": [
       "{'license': '                                 Apache License\\n                           Version 2.0, January 2004\\n                        http://www.apache.org/licenses/\\n\\n   TERMS AND CONDITIONS FOR USE, REPRODUCTION, AND DISTRIBUTION\\n\\n   1. Definitions.\\n\\n      \"License\" shall mean the terms and conditions for use, reproduction,\\n      and distribution as defined by Sections 1 through 9 of this document.\\n\\n      \"Licensor\" shall mean the copyright owner or entity authorized by\\n      the copyright owner that is granting the License.\\n\\n      \"Legal Entity\" shall mean the union of the acting entity and all\\n      other entities that control, are controlled by, or are under common\\n      control with that entity. For the purposes of this definition,\\n      \"control\" means (i) the power, direct or indirect, to cause the\\n      direction or management of such entity, whether by contract or\\n      otherwise, or (ii) ownership of fifty percent (50%) or more of the\\n      outstanding shares, or (iii) beneficial ownership of such entity.\\n\\n      \"You\" (or \"Your\") shall mean an individual or Legal Entity\\n      exercising permissions granted by this License.\\n\\n      \"Source\" form shall mean the preferred form for making modifications,\\n      including but not limited to software source code, documentation\\n      source, and configuration files.\\n\\n      \"Object\" form shall mean any form resulting from mechanical\\n      transformation or translation of a Source form, including but\\n      not limited to compiled object code, generated documentation,\\n      and conversions to other media types.\\n\\n      \"Work\" shall mean the work of authorship, whether in Source or\\n      Object form, made available under the License, as indicated by a\\n      copyright notice that is included in or attached to the work\\n      (an example is provided in the Appendix below).\\n\\n      \"Derivative Works\" shall mean any work, whether in Source or Object\\n      form, that is based on (or derived from) the Work and for which the\\n      editorial revisions, annotations, elaborations, or other modifications\\n      represent, as a whole, an original work of authorship. For the purposes\\n      of this License, Derivative Works shall not include works that remain\\n      separable from, or merely link (or bind by name) to the interfaces of,\\n      the Work and Derivative Works thereof.\\n\\n      \"Contribution\" shall mean any work of authorship, including\\n      the original version of the Work and any modifications or additions\\n      to that Work or Derivative Works thereof, that is intentionally\\n      submitted to Licensor for inclusion in the Work by the copyright owner\\n      or by an individual or Legal Entity authorized to submit on behalf of\\n      the copyright owner. For the purposes of this definition, \"submitted\"\\n      means any form of electronic, verbal, or written communication sent\\n      to the Licensor or its representatives, including but not limited to\\n      communication on electronic mailing lists, source code control systems,\\n      and issue tracking systems that are managed by, or on behalf of, the\\n      Licensor for the purpose of discussing and improving the Work, but\\n      excluding communication that is conspicuously marked or otherwise\\n      designated in writing by the copyright owner as \"Not a Contribution.\"\\n\\n      \"Contributor\" shall mean Licensor and any individual or Legal Entity\\n      on behalf of whom a Contribution has been received by Licensor and\\n      subsequently incorporated within the Work.\\n\\n   2. Grant of Copyright License. Subject to the terms and conditions of\\n      this License, each Contributor hereby grants to You a perpetual,\\n      worldwide, non-exclusive, no-charge, royalty-free, irrevocable\\n      copyright license to reproduce, prepare Derivative Works of,\\n      publicly display, publicly perform, sublicense, and distribute the\\n      Work and such Derivative Works in Source or Object form.\\n\\n   3. Grant of Patent License. Subject to the terms and conditions of\\n      this License, each Contributor hereby grants to You a perpetual,\\n      worldwide, non-exclusive, no-charge, royalty-free, irrevocable\\n      (except as stated in this section) patent license to make, have made,\\n      use, offer to sell, sell, import, and otherwise transfer the Work,\\n      where such license applies only to those patent claims licensable\\n      by such Contributor that are necessarily infringed by their\\n      Contribution(s) alone or by combination of their Contribution(s)\\n      with the Work to which such Contribution(s) was submitted. If You\\n      institute patent litigation against any entity (including a\\n      cross-claim or counterclaim in a lawsuit) alleging that the Work\\n      or a Contribution incorporated within the Work constitutes direct\\n      or contributory patent infringement, then any patent licenses\\n      granted to You under this License for that Work shall terminate\\n      as of the date such litigation is filed.\\n\\n   4. Redistribution. You may reproduce and distribute copies of the\\n      Work or Derivative Works thereof in any medium, with or without\\n      modifications, and in Source or Object form, provided that You\\n      meet the following conditions:\\n\\n      (a) You must give any other recipients of the Work or\\n          Derivative Works a copy of this License; and\\n\\n      (b) You must cause any modified files to carry prominent notices\\n          stating that You changed the files; and\\n\\n      (c) You must retain, in the Source form of any Derivative Works\\n          that You distribute, all copyright, patent, trademark, and\\n          attribution notices from the Source form of the Work,\\n          excluding those notices that do not pertain to any part of\\n          the Derivative Works; and\\n\\n      (d) If the Work includes a \"NOTICE\" text file as part of its\\n          distribution, then any Derivative Works that You distribute must\\n          include a readable copy of the attribution notices contained\\n          within such NOTICE file, excluding those notices that do not\\n          pertain to any part of the Derivative Works, in at least one\\n          of the following places: within a NOTICE text file distributed\\n          as part of the Derivative Works; within the Source form or\\n          documentation, if provided along with the Derivative Works; or,\\n          within a display generated by the Derivative Works, if and\\n          wherever such third-party notices normally appear. The contents\\n          of the NOTICE file are for informational purposes only and\\n          do not modify the License. You may add Your own attribution\\n          notices within Derivative Works that You distribute, alongside\\n          or as an addendum to the NOTICE text from the Work, provided\\n          that such additional attribution notices cannot be construed\\n          as modifying the License.\\n\\n      You may add Your own copyright statement to Your modifications and\\n      may provide additional or different license terms and conditions\\n      for use, reproduction, or distribution of Your modifications, or\\n      for any such Derivative Works as a whole, provided Your use,\\n      reproduction, and distribution of the Work otherwise complies with\\n      the conditions stated in this License.\\n\\n   5. Submission of Contributions. Unless You explicitly state otherwise,\\n      any Contribution intentionally submitted for inclusion in the Work\\n      by You to the Licensor shall be under the terms and conditions of\\n      this License, without any additional terms or conditions.\\n      Notwithstanding the above, nothing herein shall supersede or modify\\n      the terms of any separate license agreement you may have executed\\n      with Licensor regarding such Contributions.\\n\\n   6. Trademarks. This License does not grant permission to use the trade\\n      names, trademarks, service marks, or product names of the Licensor,\\n      except as required for reasonable and customary use in describing the\\n      origin of the Work and reproducing the content of the NOTICE file.\\n\\n   7. Disclaimer of Warranty. Unless required by applicable law or\\n      agreed to in writing, Licensor provides the Work (and each\\n      Contributor provides its Contributions) on an \"AS IS\" BASIS,\\n      WITHOUT WARRANTIES OR CONDITIONS OF ANY KIND, either express or\\n      implied, including, without limitation, any warranties or conditions\\n      of TITLE, NON-INFRINGEMENT, MERCHANTABILITY, or FITNESS FOR A\\n      PARTICULAR PURPOSE. You are solely responsible for determining the\\n      appropriateness of using or redistributing the Work and assume any\\n      risks associated with Your exercise of permissions under this License.\\n\\n   8. Limitation of Liability. In no event and under no legal theory,\\n      whether in tort (including negligence), contract, or otherwise,\\n      unless required by applicable law (such as deliberate and grossly\\n      negligent acts) or agreed to in writing, shall any Contributor be\\n      liable to You for damages, including any direct, indirect, special,\\n      incidental, or consequential damages of any character arising as a\\n      result of this License or out of the use or inability to use the\\n      Work (including but not limited to damages for loss of goodwill,\\n      work stoppage, computer failure or malfunction, or any and all\\n      other commercial damages or losses), even if such Contributor\\n      has been advised of the possibility of such damages.\\n\\n   9. Accepting Warranty or Additional Liability. While redistributing\\n      the Work or Derivative Works thereof, You may choose to offer,\\n      and charge a fee for, acceptance of support, warranty, indemnity,\\n      or other liability obligations and/or rights consistent with this\\n      License. However, in accepting such obligations, You may act only\\n      on Your own behalf and on Your sole responsibility, not on behalf\\n      of any other Contributor, and only if You agree to indemnify,\\n      defend, and hold each Contributor harmless for any liability\\n      incurred by, or claims asserted against, such Contributor by reason\\n      of your accepting any such warranty or additional liability.\\n\\n   END OF TERMS AND CONDITIONS\\n\\n   APPENDIX: How to apply the Apache License to your work.\\n\\n      To apply the Apache License to your work, attach the following\\n      boilerplate notice, with the fields enclosed by brackets \"[]\"\\n      replaced with your own identifying information. (Don\\'t include\\n      the brackets!)  The text should be enclosed in the appropriate\\n      comment syntax for the file format. We also recommend that a\\n      file or class name and description of purpose be included on the\\n      same \"printed page\" as the copyright notice for easier\\n      identification within third-party archives.\\n\\n   Copyright [yyyy] [name of copyright owner]\\n\\n   Licensed under the Apache License, Version 2.0 (the \"License\");\\n   you may not use this file except in compliance with the License.\\n   You may obtain a copy of the License at\\n\\n       http://www.apache.org/licenses/LICENSE-2.0\\n\\n   Unless required by applicable law or agreed to in writing, software\\n   distributed under the License is distributed on an \"AS IS\" BASIS,\\n   WITHOUT WARRANTIES OR CONDITIONS OF ANY KIND, either express or implied.\\n   See the License for the specific language governing permissions and\\n   limitations under the License.',\n",
       " 'modelfile': '# Modelfile generated by \"ollama show\"\\n# To build a new Modelfile based on this, replace FROM with:\\n# FROM mistral:latest\\n\\nFROM C:\\\\Users\\\\Ramuj\\\\.ollama\\\\models\\\\blobs\\\\sha256-ff82381e2bea77d91c1b824c7afb83f6fb73e9f7de9dda631bcdbca564aa5435\\nTEMPLATE \"\"\"{{- if .Messages }}\\n{{- range $index, $_ := .Messages }}\\n{{- if eq .Role \"user\" }}\\n{{- if and (eq (len (slice $.Messages $index)) 1) $.Tools }}[AVAILABLE_TOOLS] {{ $.Tools }}[/AVAILABLE_TOOLS]\\n{{- end }}[INST] {{ if and $.System (eq (len (slice $.Messages $index)) 1) }}{{ $.System }}\\n\\n{{ end }}{{ .Content }}[/INST]\\n{{- else if eq .Role \"assistant\" }}\\n{{- if .Content }} {{ .Content }}\\n{{- else if .ToolCalls }}[TOOL_CALLS] [\\n{{- range .ToolCalls }}{\"name\": \"{{ .Function.Name }}\", \"arguments\": {{ .Function.Arguments }}}\\n{{- end }}]\\n{{- end }}</s>\\n{{- else if eq .Role \"tool\" }}[TOOL_RESULTS] {\"content\": {{ .Content }}} [/TOOL_RESULTS]\\n{{- end }}\\n{{- end }}\\n{{- else }}[INST] {{ if .System }}{{ .System }}\\n\\n{{ end }}{{ .Prompt }}[/INST]\\n{{- end }} {{ .Response }}\\n{{- if .Response }}</s>\\n{{- end }}\"\"\"\\nPARAMETER stop [INST]\\nPARAMETER stop [/INST]\\nLICENSE \"\"\"                                 Apache License\\n                           Version 2.0, January 2004\\n                        http://www.apache.org/licenses/\\n\\n   TERMS AND CONDITIONS FOR USE, REPRODUCTION, AND DISTRIBUTION\\n\\n   1. Definitions.\\n\\n      \"License\" shall mean the terms and conditions for use, reproduction,\\n      and distribution as defined by Sections 1 through 9 of this document.\\n\\n      \"Licensor\" shall mean the copyright owner or entity authorized by\\n      the copyright owner that is granting the License.\\n\\n      \"Legal Entity\" shall mean the union of the acting entity and all\\n      other entities that control, are controlled by, or are under common\\n      control with that entity. For the purposes of this definition,\\n      \"control\" means (i) the power, direct or indirect, to cause the\\n      direction or management of such entity, whether by contract or\\n      otherwise, or (ii) ownership of fifty percent (50%) or more of the\\n      outstanding shares, or (iii) beneficial ownership of such entity.\\n\\n      \"You\" (or \"Your\") shall mean an individual or Legal Entity\\n      exercising permissions granted by this License.\\n\\n      \"Source\" form shall mean the preferred form for making modifications,\\n      including but not limited to software source code, documentation\\n      source, and configuration files.\\n\\n      \"Object\" form shall mean any form resulting from mechanical\\n      transformation or translation of a Source form, including but\\n      not limited to compiled object code, generated documentation,\\n      and conversions to other media types.\\n\\n      \"Work\" shall mean the work of authorship, whether in Source or\\n      Object form, made available under the License, as indicated by a\\n      copyright notice that is included in or attached to the work\\n      (an example is provided in the Appendix below).\\n\\n      \"Derivative Works\" shall mean any work, whether in Source or Object\\n      form, that is based on (or derived from) the Work and for which the\\n      editorial revisions, annotations, elaborations, or other modifications\\n      represent, as a whole, an original work of authorship. For the purposes\\n      of this License, Derivative Works shall not include works that remain\\n      separable from, or merely link (or bind by name) to the interfaces of,\\n      the Work and Derivative Works thereof.\\n\\n      \"Contribution\" shall mean any work of authorship, including\\n      the original version of the Work and any modifications or additions\\n      to that Work or Derivative Works thereof, that is intentionally\\n      submitted to Licensor for inclusion in the Work by the copyright owner\\n      or by an individual or Legal Entity authorized to submit on behalf of\\n      the copyright owner. For the purposes of this definition, \"submitted\"\\n      means any form of electronic, verbal, or written communication sent\\n      to the Licensor or its representatives, including but not limited to\\n      communication on electronic mailing lists, source code control systems,\\n      and issue tracking systems that are managed by, or on behalf of, the\\n      Licensor for the purpose of discussing and improving the Work, but\\n      excluding communication that is conspicuously marked or otherwise\\n      designated in writing by the copyright owner as \"Not a Contribution.\"\\n\\n      \"Contributor\" shall mean Licensor and any individual or Legal Entity\\n      on behalf of whom a Contribution has been received by Licensor and\\n      subsequently incorporated within the Work.\\n\\n   2. Grant of Copyright License. Subject to the terms and conditions of\\n      this License, each Contributor hereby grants to You a perpetual,\\n      worldwide, non-exclusive, no-charge, royalty-free, irrevocable\\n      copyright license to reproduce, prepare Derivative Works of,\\n      publicly display, publicly perform, sublicense, and distribute the\\n      Work and such Derivative Works in Source or Object form.\\n\\n   3. Grant of Patent License. Subject to the terms and conditions of\\n      this License, each Contributor hereby grants to You a perpetual,\\n      worldwide, non-exclusive, no-charge, royalty-free, irrevocable\\n      (except as stated in this section) patent license to make, have made,\\n      use, offer to sell, sell, import, and otherwise transfer the Work,\\n      where such license applies only to those patent claims licensable\\n      by such Contributor that are necessarily infringed by their\\n      Contribution(s) alone or by combination of their Contribution(s)\\n      with the Work to which such Contribution(s) was submitted. If You\\n      institute patent litigation against any entity (including a\\n      cross-claim or counterclaim in a lawsuit) alleging that the Work\\n      or a Contribution incorporated within the Work constitutes direct\\n      or contributory patent infringement, then any patent licenses\\n      granted to You under this License for that Work shall terminate\\n      as of the date such litigation is filed.\\n\\n   4. Redistribution. You may reproduce and distribute copies of the\\n      Work or Derivative Works thereof in any medium, with or without\\n      modifications, and in Source or Object form, provided that You\\n      meet the following conditions:\\n\\n      (a) You must give any other recipients of the Work or\\n          Derivative Works a copy of this License; and\\n\\n      (b) You must cause any modified files to carry prominent notices\\n          stating that You changed the files; and\\n\\n      (c) You must retain, in the Source form of any Derivative Works\\n          that You distribute, all copyright, patent, trademark, and\\n          attribution notices from the Source form of the Work,\\n          excluding those notices that do not pertain to any part of\\n          the Derivative Works; and\\n\\n      (d) If the Work includes a \"NOTICE\" text file as part of its\\n          distribution, then any Derivative Works that You distribute must\\n          include a readable copy of the attribution notices contained\\n          within such NOTICE file, excluding those notices that do not\\n          pertain to any part of the Derivative Works, in at least one\\n          of the following places: within a NOTICE text file distributed\\n          as part of the Derivative Works; within the Source form or\\n          documentation, if provided along with the Derivative Works; or,\\n          within a display generated by the Derivative Works, if and\\n          wherever such third-party notices normally appear. The contents\\n          of the NOTICE file are for informational purposes only and\\n          do not modify the License. You may add Your own attribution\\n          notices within Derivative Works that You distribute, alongside\\n          or as an addendum to the NOTICE text from the Work, provided\\n          that such additional attribution notices cannot be construed\\n          as modifying the License.\\n\\n      You may add Your own copyright statement to Your modifications and\\n      may provide additional or different license terms and conditions\\n      for use, reproduction, or distribution of Your modifications, or\\n      for any such Derivative Works as a whole, provided Your use,\\n      reproduction, and distribution of the Work otherwise complies with\\n      the conditions stated in this License.\\n\\n   5. Submission of Contributions. Unless You explicitly state otherwise,\\n      any Contribution intentionally submitted for inclusion in the Work\\n      by You to the Licensor shall be under the terms and conditions of\\n      this License, without any additional terms or conditions.\\n      Notwithstanding the above, nothing herein shall supersede or modify\\n      the terms of any separate license agreement you may have executed\\n      with Licensor regarding such Contributions.\\n\\n   6. Trademarks. This License does not grant permission to use the trade\\n      names, trademarks, service marks, or product names of the Licensor,\\n      except as required for reasonable and customary use in describing the\\n      origin of the Work and reproducing the content of the NOTICE file.\\n\\n   7. Disclaimer of Warranty. Unless required by applicable law or\\n      agreed to in writing, Licensor provides the Work (and each\\n      Contributor provides its Contributions) on an \"AS IS\" BASIS,\\n      WITHOUT WARRANTIES OR CONDITIONS OF ANY KIND, either express or\\n      implied, including, without limitation, any warranties or conditions\\n      of TITLE, NON-INFRINGEMENT, MERCHANTABILITY, or FITNESS FOR A\\n      PARTICULAR PURPOSE. You are solely responsible for determining the\\n      appropriateness of using or redistributing the Work and assume any\\n      risks associated with Your exercise of permissions under this License.\\n\\n   8. Limitation of Liability. In no event and under no legal theory,\\n      whether in tort (including negligence), contract, or otherwise,\\n      unless required by applicable law (such as deliberate and grossly\\n      negligent acts) or agreed to in writing, shall any Contributor be\\n      liable to You for damages, including any direct, indirect, special,\\n      incidental, or consequential damages of any character arising as a\\n      result of this License or out of the use or inability to use the\\n      Work (including but not limited to damages for loss of goodwill,\\n      work stoppage, computer failure or malfunction, or any and all\\n      other commercial damages or losses), even if such Contributor\\n      has been advised of the possibility of such damages.\\n\\n   9. Accepting Warranty or Additional Liability. While redistributing\\n      the Work or Derivative Works thereof, You may choose to offer,\\n      and charge a fee for, acceptance of support, warranty, indemnity,\\n      or other liability obligations and/or rights consistent with this\\n      License. However, in accepting such obligations, You may act only\\n      on Your own behalf and on Your sole responsibility, not on behalf\\n      of any other Contributor, and only if You agree to indemnify,\\n      defend, and hold each Contributor harmless for any liability\\n      incurred by, or claims asserted against, such Contributor by reason\\n      of your accepting any such warranty or additional liability.\\n\\n   END OF TERMS AND CONDITIONS\\n\\n   APPENDIX: How to apply the Apache License to your work.\\n\\n      To apply the Apache License to your work, attach the following\\n      boilerplate notice, with the fields enclosed by brackets \"[]\"\\n      replaced with your own identifying information. (Don\\'t include\\n      the brackets!)  The text should be enclosed in the appropriate\\n      comment syntax for the file format. We also recommend that a\\n      file or class name and description of purpose be included on the\\n      same \"printed page\" as the copyright notice for easier\\n      identification within third-party archives.\\n\\n   Copyright [yyyy] [name of copyright owner]\\n\\n   Licensed under the Apache License, Version 2.0 (the \"License\");\\n   you may not use this file except in compliance with the License.\\n   You may obtain a copy of the License at\\n\\n       http://www.apache.org/licenses/LICENSE-2.0\\n\\n   Unless required by applicable law or agreed to in writing, software\\n   distributed under the License is distributed on an \"AS IS\" BASIS,\\n   WITHOUT WARRANTIES OR CONDITIONS OF ANY KIND, either express or implied.\\n   See the License for the specific language governing permissions and\\n   limitations under the License.\"\"\"\\n',\n",
       " 'parameters': 'stop                           \"[INST]\"\\nstop                           \"[/INST]\"',\n",
       " 'template': '{{- if .Messages }}\\n{{- range $index, $_ := .Messages }}\\n{{- if eq .Role \"user\" }}\\n{{- if and (eq (len (slice $.Messages $index)) 1) $.Tools }}[AVAILABLE_TOOLS] {{ $.Tools }}[/AVAILABLE_TOOLS]\\n{{- end }}[INST] {{ if and $.System (eq (len (slice $.Messages $index)) 1) }}{{ $.System }}\\n\\n{{ end }}{{ .Content }}[/INST]\\n{{- else if eq .Role \"assistant\" }}\\n{{- if .Content }} {{ .Content }}\\n{{- else if .ToolCalls }}[TOOL_CALLS] [\\n{{- range .ToolCalls }}{\"name\": \"{{ .Function.Name }}\", \"arguments\": {{ .Function.Arguments }}}\\n{{- end }}]\\n{{- end }}</s>\\n{{- else if eq .Role \"tool\" }}[TOOL_RESULTS] {\"content\": {{ .Content }}} [/TOOL_RESULTS]\\n{{- end }}\\n{{- end }}\\n{{- else }}[INST] {{ if .System }}{{ .System }}\\n\\n{{ end }}{{ .Prompt }}[/INST]\\n{{- end }} {{ .Response }}\\n{{- if .Response }}</s>\\n{{- end }}',\n",
       " 'details': {'parent_model': '',\n",
       "  'format': 'gguf',\n",
       "  'family': 'llama',\n",
       "  'families': ['llama'],\n",
       "  'parameter_size': '7.2B',\n",
       "  'quantization_level': 'Q4_0'},\n",
       " 'model_info': {'general.architecture': 'llama',\n",
       "  'general.file_type': 2,\n",
       "  'general.parameter_count': 7248023552,\n",
       "  'general.quantization_version': 2,\n",
       "  'llama.attention.head_count': 32,\n",
       "  'llama.attention.head_count_kv': 8,\n",
       "  'llama.attention.layer_norm_rms_epsilon': 1e-05,\n",
       "  'llama.block_count': 32,\n",
       "  'llama.context_length': 32768,\n",
       "  'llama.embedding_length': 4096,\n",
       "  'llama.feed_forward_length': 14336,\n",
       "  'llama.rope.dimension_count': 128,\n",
       "  'llama.rope.freq_base': 1000000,\n",
       "  'llama.vocab_size': 32768,\n",
       "  'tokenizer.ggml.add_bos_token': True,\n",
       "  'tokenizer.ggml.add_eos_token': False,\n",
       "  'tokenizer.ggml.bos_token_id': 1,\n",
       "  'tokenizer.ggml.eos_token_id': 2,\n",
       "  'tokenizer.ggml.model': 'llama',\n",
       "  'tokenizer.ggml.pre': 'default',\n",
       "  'tokenizer.ggml.scores': None,\n",
       "  'tokenizer.ggml.token_type': None,\n",
       "  'tokenizer.ggml.tokens': None,\n",
       "  'tokenizer.ggml.unknown_token_id': 0},\n",
       " 'modified_at': '2024-08-09T13:53:38.7535933+05:30'}"
      ]
     },
     "execution_count": 29,
     "metadata": {},
     "output_type": "execute_result"
    }
   ],
   "source": [
    "ollama.show('mistral')"
   ]
  },
  {
   "cell_type": "code",
   "execution_count": 30,
   "id": "98b059c9-e783-44fd-9cec-8ca57c5bc0d2",
   "metadata": {},
   "outputs": [
    {
     "data": {
      "text/plain": [
       "{'model': 'mistral',\n",
       " 'created_at': '2024-08-09T08:37:47.1968819Z',\n",
       " 'response': \" The sky appears blue due to a phenomenon called Rayleigh scattering. In simple terms, when sunlight reaches Earth's atmosphere, it is made up of different colors (wavelengths) that travel as waves. Shorter wavelengths (blue and violet light) are scattered in many directions by the molecules in the air more than longer wavelengths (red, yellow, and green). However, we see the sky as blue instead of violet because our eyes are more sensitive to blue light and because sunlight reaches us more from the blue part of the spectrum rather than the violet. In addition, some of the violet light gets absorbed by the ozone layer in the stratosphere. This is a basic explanation; the actual physics behind it is much more complex!\",\n",
       " 'done': True,\n",
       " 'done_reason': 'stop',\n",
       " 'context': [3,\n",
       "  29473,\n",
       "  5083,\n",
       "  1117,\n",
       "  1040,\n",
       "  7980,\n",
       "  5813,\n",
       "  29572,\n",
       "  4,\n",
       "  1027,\n",
       "  1183,\n",
       "  7980,\n",
       "  8813,\n",
       "  5813,\n",
       "  3708,\n",
       "  1066,\n",
       "  1032,\n",
       "  21525,\n",
       "  2755,\n",
       "  9720,\n",
       "  1059,\n",
       "  1724,\n",
       "  22403,\n",
       "  29491,\n",
       "  1328,\n",
       "  4356,\n",
       "  4239,\n",
       "  29493,\n",
       "  1507,\n",
       "  23718,\n",
       "  19478,\n",
       "  9367,\n",
       "  29510,\n",
       "  29481,\n",
       "  14557,\n",
       "  29493,\n",
       "  1146,\n",
       "  1117,\n",
       "  2037,\n",
       "  1350,\n",
       "  1070,\n",
       "  2349,\n",
       "  10072,\n",
       "  1093,\n",
       "  29495,\n",
       "  27563,\n",
       "  29481,\n",
       "  29499,\n",
       "  1137,\n",
       "  5298,\n",
       "  1158,\n",
       "  14063,\n",
       "  29491,\n",
       "  2063,\n",
       "  7814,\n",
       "  1043,\n",
       "  27563,\n",
       "  29481,\n",
       "  1093,\n",
       "  13117,\n",
       "  1072,\n",
       "  1131,\n",
       "  21114,\n",
       "  2829,\n",
       "  29499,\n",
       "  1228,\n",
       "  21763,\n",
       "  1065,\n",
       "  2055,\n",
       "  15046,\n",
       "  1254,\n",
       "  1040,\n",
       "  12928,\n",
       "  22417,\n",
       "  1065,\n",
       "  1040,\n",
       "  3191,\n",
       "  1448,\n",
       "  1589,\n",
       "  4542,\n",
       "  1043,\n",
       "  27563,\n",
       "  29481,\n",
       "  1093,\n",
       "  1661,\n",
       "  29493,\n",
       "  10452,\n",
       "  29493,\n",
       "  1072,\n",
       "  6112,\n",
       "  1377,\n",
       "  3761,\n",
       "  29493,\n",
       "  1246,\n",
       "  1800,\n",
       "  1040,\n",
       "  7980,\n",
       "  1158,\n",
       "  5813,\n",
       "  4287,\n",
       "  1070,\n",
       "  1131,\n",
       "  21114,\n",
       "  1864,\n",
       "  1581,\n",
       "  3050,\n",
       "  1228,\n",
       "  1448,\n",
       "  14277,\n",
       "  1066,\n",
       "  5813,\n",
       "  2829,\n",
       "  1072,\n",
       "  1864,\n",
       "  23718,\n",
       "  19478,\n",
       "  1360,\n",
       "  1448,\n",
       "  1245,\n",
       "  1040,\n",
       "  5813,\n",
       "  1512,\n",
       "  1070,\n",
       "  1040,\n",
       "  12834,\n",
       "  3978,\n",
       "  1589,\n",
       "  1040,\n",
       "  1131,\n",
       "  21114,\n",
       "  29491,\n",
       "  1328,\n",
       "  5286,\n",
       "  29493,\n",
       "  1509,\n",
       "  1070,\n",
       "  1040,\n",
       "  1131,\n",
       "  21114,\n",
       "  2829,\n",
       "  5507,\n",
       "  27764,\n",
       "  1254,\n",
       "  1040,\n",
       "  1057,\n",
       "  8563,\n",
       "  8255,\n",
       "  1065,\n",
       "  1040,\n",
       "  1885,\n",
       "  18128,\n",
       "  9568,\n",
       "  29491,\n",
       "  1619,\n",
       "  1117,\n",
       "  1032,\n",
       "  7239,\n",
       "  14036,\n",
       "  29513,\n",
       "  1040,\n",
       "  5463,\n",
       "  16941,\n",
       "  3678,\n",
       "  1146,\n",
       "  1117,\n",
       "  1956,\n",
       "  1448,\n",
       "  5398,\n",
       "  29576],\n",
       " 'total_duration': 661988351000,\n",
       " 'load_duration': 17176300,\n",
       " 'prompt_eval_count': 11,\n",
       " 'prompt_eval_duration': 1623327000,\n",
       " 'eval_count': 160,\n",
       " 'eval_duration': 660346122000}"
      ]
     },
     "execution_count": 30,
     "metadata": {},
     "output_type": "execute_result"
    }
   ],
   "source": [
    "ollama.generate(model='mistral', prompt='Why is the sky blue?')"
   ]
  },
  {
   "cell_type": "code",
   "execution_count": 37,
   "id": "9defcc70-e5c6-4a26-b74d-9bb0dda55cd4",
   "metadata": {},
   "outputs": [],
   "source": [
    "from flask import Flask, request"
   ]
  },
  {
   "cell_type": "code",
   "execution_count": 38,
   "id": "daaacf66-dd2c-4bbb-b34c-ae42b76c6d10",
   "metadata": {},
   "outputs": [],
   "source": [
    "app = Flask(__name__)"
   ]
  },
  {
   "cell_type": "code",
   "execution_count": 39,
   "id": "0df3e245-7040-4c56-bda7-3602d5aebed3",
   "metadata": {},
   "outputs": [],
   "source": [
    "@app.route('/')\n",
    "def index():\n",
    "    return send_file('index.html')"
   ]
  },
  {
   "cell_type": "code",
   "execution_count": 42,
   "id": "9be8560e-8e24-4daa-a7c7-79e6ebf92aac",
   "metadata": {},
   "outputs": [],
   "source": [
    "@app.route('/generate', methods=['POST'])\n",
    "def translation():\n",
    "    data = request.get_json()\n",
    "    text_input = data['inputtext']\n",
    "    text_lang = data['languageSelect']\n",
    "    j=text_input+','+ text_lang+'give me in the transulation of the text in the given language'\n",
    "    k=ollama.generate(model='mistral', prompt=j )\n",
    "    outputtext = k[response]\n",
    "    return outputtext\n",
    "    "
   ]
  },
  {
   "cell_type": "code",
   "execution_count": 44,
   "id": "99a0090d-b6d7-448f-a039-6b907d45a51d",
   "metadata": {},
   "outputs": [
    {
     "ename": "SyntaxError",
     "evalue": "invalid syntax (2367296765.py, line 1)",
     "output_type": "error",
     "traceback": [
      "\u001b[1;36m  Cell \u001b[1;32mIn[44], line 1\u001b[1;36m\u001b[0m\n\u001b[1;33m    flask --app  transulation run\u001b[0m\n\u001b[1;37m                 ^\u001b[0m\n\u001b[1;31mSyntaxError\u001b[0m\u001b[1;31m:\u001b[0m invalid syntax\n"
     ]
    }
   ],
   "source": [
    "flask --app  transulation run"
   ]
  },
  {
   "cell_type": "code",
   "execution_count": null,
   "id": "7d78b4fd-0664-4757-aa78-d834d1f704cc",
   "metadata": {},
   "outputs": [],
   "source": []
  }
 ],
 "metadata": {
  "kernelspec": {
   "display_name": "Python 3 (ipykernel)",
   "language": "python",
   "name": "python3"
  },
  "language_info": {
   "codemirror_mode": {
    "name": "ipython",
    "version": 3
   },
   "file_extension": ".py",
   "mimetype": "text/x-python",
   "name": "python",
   "nbconvert_exporter": "python",
   "pygments_lexer": "ipython3",
   "version": "3.11.9"
  }
 },
 "nbformat": 4,
 "nbformat_minor": 5
}
